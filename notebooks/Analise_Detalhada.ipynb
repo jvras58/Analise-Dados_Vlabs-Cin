{
 "cells": [
  {
   "cell_type": "markdown",
   "metadata": {},
   "source": [
    "---\n",
    "## Analise"
   ]
  },
  {
   "cell_type": "code",
   "execution_count": 1,
   "metadata": {},
   "outputs": [],
   "source": [
    "import pandas as pd # type: ignore\n",
    "import pm4py\n",
    "\n",
    "BASE_PATH_DATA = '/workspace/data'"
   ]
  },
  {
   "cell_type": "code",
   "execution_count": null,
   "metadata": {},
   "outputs": [],
   "source": [
    "df = pd.read_csv(f'{BASE_PATH_DATA}/movimentos_unidade_1_processado.csv', sep=';')\n",
    "\n",
    "print(df.columns)\n",
    "\n",
    "if 'processo ID' in df.columns:\n",
    "    case_id_col = 'processo_ID'\n",
    "else:\n",
    "    raise Exception(\"A coluna 'processoID' não está presente no dataframe!\")\n",
    "\n",
    "df = pm4py.format_dataframe(df, case_id=case_id_col, activity_key='activity', timestamp_key='dataInicio')\n",
    "bpmn_model = pm4py.discover_bpmn_inductive(df)\n",
    "pm4py.view_bpmn(bpmn_model)"
   ]
  }
 ],
 "metadata": {
  "kernelspec": {
   "display_name": ".venv",
   "language": "python",
   "name": "python3"
  },
  "language_info": {
   "codemirror_mode": {
    "name": "ipython",
    "version": 3
   },
   "file_extension": ".py",
   "mimetype": "text/x-python",
   "name": "python",
   "nbconvert_exporter": "python",
   "pygments_lexer": "ipython3",
   "version": "3.12.5"
  }
 },
 "nbformat": 4,
 "nbformat_minor": 2
}
